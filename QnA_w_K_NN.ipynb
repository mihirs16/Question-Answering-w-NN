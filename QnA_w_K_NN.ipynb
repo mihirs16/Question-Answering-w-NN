{
  "nbformat": 4,
  "nbformat_minor": 0,
  "metadata": {
    "colab": {
      "name": "QnA w/ K-NN.ipynb",
      "provenance": [],
      "collapsed_sections": []
    },
    "kernelspec": {
      "name": "python3",
      "display_name": "Python 3"
    }
  },
  "cells": [
    {
      "cell_type": "markdown",
      "metadata": {
        "id": "HEUVMog3Qlsp"
      },
      "source": [
        "# Question Answering with Nearest Neighbour Search and Locality Sensitive Hashing\n",
        "\n",
        "---\n",
        "\n"
      ]
    },
    {
      "cell_type": "markdown",
      "metadata": {
        "id": "opSvre2qRAKH"
      },
      "source": [
        "## Downloading and Unpacking Word Embeddings\n"
      ]
    },
    {
      "cell_type": "markdown",
      "metadata": {
        "id": "tS6FUdXlRKD9"
      },
      "source": [
        "<b>Google News Vectors</b><br>\n",
        "* Total Vocab: 3,000,000,000<br>\n",
        "* Dimensions: 300\n",
        "\n"
      ]
    },
    {
      "cell_type": "code",
      "metadata": {
        "id": "L5Ff0QwD8JoA",
        "outputId": "7e99084a-c019-45e4-cae1-f9e8ad4db791",
        "colab": {
          "base_uri": "https://localhost:8080/",
          "height": 221
        }
      },
      "source": [
        "!wget -c \"https://s3.amazonaws.com/dl4j-distribution/GoogleNews-vectors-negative300.bin.gz\"\n",
        "!gzip -d \"GoogleNews-vectors-negative300.bin.gz\""
      ],
      "execution_count": null,
      "outputs": [
        {
          "output_type": "stream",
          "text": [
            "--2020-10-09 08:15:36--  https://s3.amazonaws.com/dl4j-distribution/GoogleNews-vectors-negative300.bin.gz\n",
            "Resolving s3.amazonaws.com (s3.amazonaws.com)... 52.217.34.22\n",
            "Connecting to s3.amazonaws.com (s3.amazonaws.com)|52.217.34.22|:443... connected.\n",
            "HTTP request sent, awaiting response... 200 OK\n",
            "Length: 1647046227 (1.5G) [application/x-gzip]\n",
            "Saving to: ‘GoogleNews-vectors-negative300.bin.gz’\n",
            "\n",
            "GoogleNews-vectors- 100%[===================>]   1.53G  52.1MB/s    in 29s     \n",
            "\n",
            "2020-10-09 08:16:05 (54.9 MB/s) - ‘GoogleNews-vectors-negative300.bin.gz’ saved [1647046227/1647046227]\n",
            "\n",
            "\n"
          ],
          "name": "stdout"
        }
      ]
    },
    {
      "cell_type": "markdown",
      "metadata": {
        "id": "YFUNGPZ1Rp7G"
      },
      "source": [
        "## Importing Packages\n",
        "\n",
        "\n",
        "\n",
        "* Pandas (DataFrame and CSV)\n",
        "* Numpy (Arrays and Vector Maths)\n",
        "* NLTK (Language Processing, Stopwords, WordNet)\n",
        "* Gensim (Word2Vec Model)\n",
        "\n"
      ]
    },
    {
      "cell_type": "code",
      "metadata": {
        "id": "UenEEZL67lDt",
        "outputId": "00ee2c94-195d-4e3c-b934-12ddf005de37",
        "colab": {
          "base_uri": "https://localhost:8080/",
          "height": 102
        }
      },
      "source": [
        "import re\n",
        "import pickle\n",
        "import pandas as pd\n",
        "import numpy as np\n",
        "import nltk\n",
        "from nltk.corpus import stopwords\n",
        "from nltk.stem import WordNetLemmatizer\n",
        "from nltk.tokenize import word_tokenize\n",
        "from gensim.models import KeyedVectors\n",
        "\n",
        "nltk.download('wordnet')\n",
        "nltk.download('stopwords')"
      ],
      "execution_count": null,
      "outputs": [
        {
          "output_type": "stream",
          "text": [
            "[nltk_data] Downloading package wordnet to /root/nltk_data...\n",
            "[nltk_data]   Unzipping corpora/wordnet.zip.\n",
            "[nltk_data] Downloading package stopwords to /root/nltk_data...\n",
            "[nltk_data]   Unzipping corpora/stopwords.zip.\n"
          ],
          "name": "stdout"
        },
        {
          "output_type": "execute_result",
          "data": {
            "text/plain": [
              "True"
            ]
          },
          "metadata": {
            "tags": []
          },
          "execution_count": 2
        }
      ]
    },
    {
      "cell_type": "markdown",
      "metadata": {
        "id": "PpU5RrHySK5b"
      },
      "source": [
        "## Cleaning Data"
      ]
    },
    {
      "cell_type": "code",
      "metadata": {
        "id": "m_XvIFTIwnMV",
        "outputId": "8f3c96d9-89f1-4f09-81ab-82430a6cf31a",
        "colab": {
          "base_uri": "https://localhost:8080/",
          "height": 204
        }
      },
      "source": [
        "# df = pd.read_excel('sem-faq-db.xlsx')\n",
        "# df.drop(['Source', 'Metadata', 'SuggestedQuestions', 'IsContextOnly', 'Prompts'], axis = 1, inplace = True)\n",
        "# print(df.head())\n",
        "# df.to_csv('sem-faq-db.csv')\n",
        "df = pd.read_csv('sem-faq-db.csv')\n",
        "df.drop([df.columns[0]], axis = 1, inplace = True)\n",
        "df.head()"
      ],
      "execution_count": null,
      "outputs": [
        {
          "output_type": "execute_result",
          "data": {
            "text/html": [
              "<div>\n",
              "<style scoped>\n",
              "    .dataframe tbody tr th:only-of-type {\n",
              "        vertical-align: middle;\n",
              "    }\n",
              "\n",
              "    .dataframe tbody tr th {\n",
              "        vertical-align: top;\n",
              "    }\n",
              "\n",
              "    .dataframe thead th {\n",
              "        text-align: right;\n",
              "    }\n",
              "</style>\n",
              "<table border=\"1\" class=\"dataframe\">\n",
              "  <thead>\n",
              "    <tr style=\"text-align: right;\">\n",
              "      <th></th>\n",
              "      <th>Question</th>\n",
              "      <th>Answer</th>\n",
              "      <th>QnaId</th>\n",
              "    </tr>\n",
              "  </thead>\n",
              "  <tbody>\n",
              "    <tr>\n",
              "      <th>0</th>\n",
              "      <td>Do you ever get hurt?</td>\n",
              "      <td>I don't have a body.</td>\n",
              "      <td>1</td>\n",
              "    </tr>\n",
              "    <tr>\n",
              "      <th>1</th>\n",
              "      <td>Can you breathe</td>\n",
              "      <td>I don't have a body.</td>\n",
              "      <td>1</td>\n",
              "    </tr>\n",
              "    <tr>\n",
              "      <th>2</th>\n",
              "      <td>Do you ever breathe</td>\n",
              "      <td>I don't have a body.</td>\n",
              "      <td>1</td>\n",
              "    </tr>\n",
              "    <tr>\n",
              "      <th>3</th>\n",
              "      <td>can you masticate?</td>\n",
              "      <td>I don't have a body.</td>\n",
              "      <td>1</td>\n",
              "    </tr>\n",
              "    <tr>\n",
              "      <th>4</th>\n",
              "      <td>Can you burp?</td>\n",
              "      <td>I don't have a body.</td>\n",
              "      <td>1</td>\n",
              "    </tr>\n",
              "  </tbody>\n",
              "</table>\n",
              "</div>"
            ],
            "text/plain": [
              "                Question                Answer  QnaId\n",
              "0  Do you ever get hurt?  I don't have a body.      1\n",
              "1        Can you breathe  I don't have a body.      1\n",
              "2    Do you ever breathe  I don't have a body.      1\n",
              "3     can you masticate?  I don't have a body.      1\n",
              "4          Can you burp?  I don't have a body.      1"
            ]
          },
          "metadata": {
            "tags": []
          },
          "execution_count": 4
        }
      ]
    },
    {
      "cell_type": "markdown",
      "metadata": {
        "id": "3Qj-YbHaSPCO"
      },
      "source": [
        "## Word2Vec Model\n",
        "\n",
        "* Vocab Considered: 1,000,000\n",
        "* Dimensions: 300"
      ]
    },
    {
      "cell_type": "code",
      "metadata": {
        "id": "1xCd6y-N6MGO",
        "outputId": "45ffb493-8901-48e3-863b-926465b719e0",
        "colab": {
          "base_uri": "https://localhost:8080/",
          "height": 71
        }
      },
      "source": [
        "en_embeddings = KeyedVectors.load_word2vec_format('./GoogleNews-vectors-negative300.bin', binary = True, limit=1100000)\n",
        "# pickle.dump(en_embeddings, open( \"en_embeddings.p\", \"wb\" ))\n",
        "# en_embeddings_subset = pickle.load(open(\"en_embeddings.p\", \"rb\"))"
      ],
      "execution_count": null,
      "outputs": [
        {
          "output_type": "stream",
          "text": [
            "/usr/local/lib/python3.6/dist-packages/smart_open/smart_open_lib.py:252: UserWarning: This function is deprecated, use smart_open.open instead. See the migration notes for details: https://github.com/RaRe-Technologies/smart_open/blob/master/README.rst#migrating-to-the-new-open-function\n",
            "  'See the migration notes for details: %s' % _MIGRATION_NOTES_URL\n"
          ],
          "name": "stderr"
        }
      ]
    },
    {
      "cell_type": "markdown",
      "metadata": {
        "id": "umpc1o2gSmQw"
      },
      "source": [
        "## Processing Data"
      ]
    },
    {
      "cell_type": "markdown",
      "metadata": {
        "id": "rC4yU8SJTFYi"
      },
      "source": [
        "\n",
        "1. Process Text\n",
        "    * Remove Punctuations\n",
        "    * Convert to Lowercase\n",
        "    * Tokenize\n",
        "    * Lemmatize all words\n",
        "    * Remove Stopwords"
      ]
    },
    {
      "cell_type": "code",
      "metadata": {
        "id": "nuBWnUPxSBw3"
      },
      "source": [
        "def process_que(text):\n",
        "    lemmatizer = WordNetLemmatizer()\n",
        "    text = re.sub(\"\\'\", \"\", text) \n",
        "    text = re.sub(\"[^a-zA-Z]\",\" \",text) \n",
        "    text = ' '.join(text.split()) \n",
        "    text = text.lower()\n",
        "    _t = \"\"\n",
        "    for t in text.split():\n",
        "        _t += lemmatizer.lemmatize(t, pos='a') + \" \"\n",
        "    text = _t\n",
        "    stop_words = set(stopwords.words('english'))\n",
        "    no_stopword_text = [w for w in text.split() if not w in stop_words]\n",
        "    text = no_stopword_text\n",
        "    return text"
      ],
      "execution_count": null,
      "outputs": []
    },
    {
      "cell_type": "markdown",
      "metadata": {
        "id": "BOZsSz9DTar0"
      },
      "source": [
        "2. Cosine Similarity"
      ]
    },
    {
      "cell_type": "code",
      "metadata": {
        "id": "XuRvFWEb7-Xj"
      },
      "source": [
        "def cosine_similarity(A, B):\n",
        "    cos = -10\n",
        "    dot = np.dot(A, B)\n",
        "    norma = np.linalg.norm(A)\n",
        "    normb = np.linalg.norm(B)\n",
        "    cos = dot / (norma * normb)\n",
        "    return cos"
      ],
      "execution_count": null,
      "outputs": []
    },
    {
      "cell_type": "markdown",
      "metadata": {
        "id": "5YYkqGajTew-"
      },
      "source": [
        "3. Vector for Each Document"
      ]
    },
    {
      "cell_type": "code",
      "metadata": {
        "id": "ogDibFEhQwT7",
        "outputId": "909aa3f9-218e-4199-94ba-dc61f3569df2",
        "colab": {
          "base_uri": "https://localhost:8080/",
          "height": 51
        }
      },
      "source": [
        "def get_document_embedding(que, en_embeddings): \n",
        "    doc_embedding = np.zeros(300)\n",
        "    processed_doc = process_que(que)\n",
        "    for word in processed_doc:\n",
        "        if word in en_embeddings.vocab:        \n",
        "            doc_embedding += en_embeddings[word]\n",
        "        else:\n",
        "            doc_embedding += 0\n",
        "    return doc_embedding\n",
        "\n",
        "exmp = df.Question.values[0]\n",
        "print(exmp)\n",
        "exmp_embedding = get_document_embedding(exmp, en_embeddings)\n",
        "exmp_embedding[:5]"
      ],
      "execution_count": null,
      "outputs": [
        {
          "output_type": "stream",
          "text": [
            "Do you ever get hurt?\n"
          ],
          "name": "stdout"
        },
        {
          "output_type": "execute_result",
          "data": {
            "text/plain": [
              "array([-0.1962738 , -0.02954102, -0.26391602,  0.30395508, -0.24365234])"
            ]
          },
          "metadata": {
            "tags": []
          },
          "execution_count": 44
        }
      ]
    },
    {
      "cell_type": "markdown",
      "metadata": {
        "id": "LQaEV-ZYTvTS"
      },
      "source": [
        "4. Embeddings for All Documents"
      ]
    },
    {
      "cell_type": "code",
      "metadata": {
        "id": "bLkhYx0_4m2V",
        "outputId": "0dd3eb71-a8a6-4b01-d03b-567606d7b2f9",
        "colab": {
          "base_uri": "https://localhost:8080/",
          "height": 51
        }
      },
      "source": [
        "def get_document_vecs(all_docs, en_embeddings):\n",
        "    ind2Doc_dict = {}\n",
        "    document_vec_l = []\n",
        "    for i, doc in enumerate(all_docs):\n",
        "        doc_embedding = get_document_embedding(doc, en_embeddings)\n",
        "        ind2Doc_dict[i] = doc_embedding\n",
        "        document_vec_l.append(doc_embedding)\n",
        "    document_vec_matrix = np.vstack(document_vec_l)\n",
        "    return document_vec_matrix, ind2Doc_dict\n",
        "\n",
        "document_vecs, ind2Tweet = get_document_vecs(df.Question.values, en_embeddings)\n",
        "print(f\"length of dictionary {len(ind2Tweet)}\")\n",
        "print(f\"shape of document_vecs {document_vecs.shape}\")"
      ],
      "execution_count": null,
      "outputs": [
        {
          "output_type": "stream",
          "text": [
            "length of dictionary 9793\n",
            "shape of document_vecs (9793, 300)\n"
          ],
          "name": "stdout"
        }
      ]
    },
    {
      "cell_type": "markdown",
      "metadata": {
        "id": "ZBXHYtH8UT_t"
      },
      "source": [
        "## Searching Dataset w/ Nearest Neighbour"
      ]
    },
    {
      "cell_type": "markdown",
      "metadata": {
        "id": "g1yunbUUc0xn"
      },
      "source": [
        "Testing NN"
      ]
    },
    {
      "cell_type": "code",
      "metadata": {
        "id": "L5KG29g962Y_",
        "outputId": "80f158b5-4b37-44c9-be76-dd6412cfdccd",
        "colab": {
          "base_uri": "https://localhost:8080/",
          "height": 68
        }
      },
      "source": [
        "Query = input(\"Question: \")\n",
        "que_embed = get_document_embedding(Query, en_embeddings)\n",
        "idx = np.argmax(cosine_similarity(document_vecs, que_embed))\n",
        "print(\"Matched Question: \" + df.Question.values[idx]) \n",
        "print(\"Possible Answer: \" + df.Answer.values[idx])"
      ],
      "execution_count": null,
      "outputs": [
        {
          "output_type": "stream",
          "text": [
            "Question: are you good?\n",
            "Matched Question: Looks like you'd better start job hunting\n",
            "Possible Answer: Okay, but I'm still here if you need me.\n"
          ],
          "name": "stdout"
        }
      ]
    },
    {
      "cell_type": "markdown",
      "metadata": {
        "id": "TzFW_kyDc3Vn"
      },
      "source": [
        "Inference Function"
      ]
    },
    {
      "cell_type": "code",
      "metadata": {
        "id": "4gtBI_XGXpeo",
        "outputId": "c33387a9-28f1-4da4-ecad-1822ca74034e",
        "colab": {
          "base_uri": "https://localhost:8080/",
          "height": 88
        }
      },
      "source": [
        "def ask(que):\n",
        "    que_embed = get_document_embedding(que, en_embeddings)\n",
        "    idx = np.argmax(cosine_similarity(document_vecs, que_embed))\n",
        "\n",
        "    return df.Answer.values[idx]\n",
        "\n",
        "df['Predicted'] = [ask(x) for x in list(df.Question.values)]\n",
        "\n",
        "acc = 0\n",
        "for x, y in zip(df.Answer.values, df.Predicted.values):\n",
        "    if x == y:\n",
        "        acc = acc + 1\n",
        "\n",
        "print('Accuracy: ', acc/df.shape[0])"
      ],
      "execution_count": null,
      "outputs": [
        {
          "output_type": "stream",
          "text": [
            "/usr/local/lib/python3.6/dist-packages/ipykernel_launcher.py:6: RuntimeWarning: invalid value encountered in true_divide\n",
            "  \n"
          ],
          "name": "stderr"
        },
        {
          "output_type": "stream",
          "text": [
            "Accuracy:  0.4159093229858062\n"
          ],
          "name": "stdout"
        }
      ]
    }
  ]
}